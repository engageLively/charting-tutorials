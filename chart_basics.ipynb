{
 "cells": [
  {
   "cell_type": "markdown",
   "metadata": {},
   "source": [
    "To use a Galyleo Chart, just use the class  **LivelyClient** from the **lively_client.public_client** module.  This is pre-installed in Galyleo Enterprise Cloud and Galyleo Notebook Servers, so just include this.  Documentation for the **LivelyClient** class is [here](https://engagelively.com/documentation/).  The parameters specify the host of the chart and connection information; the default parameters are always sufficient.  Run the next cell to get a client."
   ]
  },
  {
   "cell_type": "code",
   "execution_count": null,
   "metadata": {},
   "outputs": [],
   "source": [
    "from lively_client import public_client\n",
    "my_client = public_client.LivelyClient()"
   ]
  },
  {
   "cell_type": "markdown",
   "metadata": {},
   "source": [
    "You will also be able to create your own; we will cover that in a subsequent tutorial.  For now, let's just do a basic Scatter plot"
   ]
  },
  {
   "cell_type": "code",
   "execution_count": null,
   "metadata": {},
   "outputs": [],
   "source": [
    "from IPython.display import IFrame\n",
    "room_url = my_client.get_unique_room_url(chart_type=\"Scatter-Plot\", my_chart_id=None, room_name=None)\n",
    "IFrame(room_url, width=700, height=400)"
   ]
  },
  {
   "cell_type": "markdown",
   "metadata": {},
   "source": [
    "The client generates a URL for the room, which can be used to display it.  A room URL consists of the base URL for the chart, which is given by the parameter **my_chart_id**, and a **room_name**.  If **None** is given as he argument, defaults are used.\n",
    "Before we send data to the chart, let's show the presentation feature of the chart.  Get the room_url and open it in a browser."
   ]
  },
  {
   "cell_type": "code",
   "execution_count": null,
   "metadata": {},
   "outputs": [],
   "source": [
    "from IPython.display import HTML\n",
    "h = HTML('<a href=%s>%s</a>'% (room_url, room_url))\n",
    "display(h)"
   ]
  },
  {
   "cell_type": "markdown",
   "metadata": {},
   "source": [
    "Now let's create some data to send to the chart.  We'll just send a sin wave and a cosine wave.  In general, data is always sent to a chart as a list of lists, where the first list is the column headers and each subsequent list is a point for each  data set.  Often, but not always, the first column is the x-axis values."
   ]
  },
  {
   "cell_type": "code",
   "execution_count": null,
   "metadata": {},
   "outputs": [],
   "source": [
    "import math\n",
    "pts = [2 * math.pi * x/100 for x in range(101)]\n",
    "sin_data = [math.sin(p) for p in pts]\n",
    "cos_data = [math.cos(p) for p in pts]\n",
    "domain = range(len(pts))\n",
    "chart_data = [['x', 'sin', 'cos']] + [[pts[i], sin_data[i], cos_data[i]]for i in domain]\n",
    "my_data = {\"data\": chart_data}"
   ]
  },
  {
   "cell_type": "markdown",
   "metadata": {},
   "source": [
    "Now send the data.  We use the **send_data** method of **LivelyClient**.  This takes **two** required fields -- the first parameter **must** be a dictionary whose **data** field is the list of lists that is the data, and the **room_name** must be specified.  Further, the **chart_type** argument should be set to the type of the desired chart."
   ]
  },
  {
   "cell_type": "code",
   "execution_count": null,
   "metadata": {},
   "outputs": [],
   "source": [
    "ret_message, room, ret_code = my_client.send_data({'data': chart_data}, chart_type = 'Scatter-Plot', room_name = my_client.room_name)\n",
    "print(ret_message, room, ret_code)"
   ]
  },
  {
   "cell_type": "markdown",
   "metadata": {},
   "source": [
    "Observe that the chart has changed; also,if you check a  **previously-opened** tab to the chart, you'll see that it has updated as well.  However, if you now open the chart in a new tab, you'll see that it has the default random data.  This is because the chart data is only sent to **existing** open tabs.  To see this, get a new copy of the page and open it up. "
   ]
  },
  {
   "cell_type": "code",
   "execution_count": null,
   "metadata": {},
   "outputs": [],
   "source": [
    "display(h)"
   ]
  },
  {
   "cell_type": "markdown",
   "metadata": {},
   "source": [
    "That is the first, basic chart tutorial.  Please explore the other tutorial notebooks in this directory."
   ]
  },
  {
   "cell_type": "code",
   "execution_count": null,
   "metadata": {},
   "outputs": [],
   "source": []
  }
 ],
 "metadata": {
  "kernelspec": {
   "display_name": "Python 3",
   "language": "python",
   "name": "python3"
  },
  "language_info": {
   "codemirror_mode": {
    "name": "ipython",
    "version": 3
   },
   "file_extension": ".py",
   "mimetype": "text/x-python",
   "name": "python",
   "nbconvert_exporter": "python",
   "pygments_lexer": "ipython3",
   "version": "3.7.3"
  }
 },
 "nbformat": 4,
 "nbformat_minor": 4
}

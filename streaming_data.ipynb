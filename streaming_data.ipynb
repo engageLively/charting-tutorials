{
 "cells": [
  {
   "cell_type": "markdown",
   "metadata": {},
   "source": [
    "In this tutorial, we'll show sending streaming data to a chart.  This assumes that you have gone through the **chart_basics** Notebook tutorial, and know how to create a chart in Galyleo and view it on the web.  First, let's build a class that will generate a sine wave and cosine wave incrementally."
   ]
  },
  {
   "cell_type": "code",
   "execution_count": null,
   "metadata": {},
   "outputs": [],
   "source": [
    "import math\n",
    "class Waves:\n",
    "    def __init__(self, init_x = 0, increment_x = 0.1):\n",
    "        self.init_x = init_x\n",
    "        self.increment = increment_x\n",
    "        self.reset()\n",
    "    \n",
    "    def reset(self):\n",
    "        self.x = self.init_x\n",
    "    \n",
    "    def next_point(self):\n",
    "        result = [self.x, math.sin(self.x), math.cos(self.x)]\n",
    "        self.x += self.increment\n",
    "        return result\n",
    "    \n",
    "    "
   ]
  },
  {
   "cell_type": "markdown",
   "metadata": {},
   "source": [
    "Display the chart.  This time we'll do an AreaChart."
   ]
  },
  {
   "cell_type": "code",
   "execution_count": null,
   "metadata": {},
   "outputs": [],
   "source": [
    "from lively_client import public_client\n",
    "from IPython.display import IFrame\n",
    "\n",
    "my_client = public_client.LivelyClient()\n",
    "room_url = my_client.get_unique_room_url(chart_type=\"AreaChart\", my_chart_id=None, room_name=None)\n",
    "IFrame(room_url, width=700, height=400)"
   ]
  },
  {
   "cell_type": "markdown",
   "metadata": {},
   "source": [
    "Now create a Waves object, and get the first few points"
   ]
  },
  {
   "cell_type": "code",
   "execution_count": null,
   "metadata": {},
   "outputs": [],
   "source": [
    "from IPython.display import HTML\n",
    "h = HTML('<a href=%s>%s</a>'% (room_url, room_url))\n",
    "display(h)"
   ]
  },
  {
   "cell_type": "code",
   "execution_count": null,
   "metadata": {},
   "outputs": [],
   "source": [
    "w = Waves()\n",
    "data = [w.next_point() for i in range(20)]\n",
    "data.insert(0, ['x', 'sin', 'cos'])"
   ]
  },
  {
   "cell_type": "code",
   "execution_count": null,
   "metadata": {},
   "outputs": [],
   "source": [
    "data"
   ]
  },
  {
   "cell_type": "markdown",
   "metadata": {},
   "source": [
    "Now send the data to the chart.  Note the **streaming** element of the dictionary that's the first argument to **send_data**.  This tells the client that future updates **append** to rather than replace the data.  The **streaming** object has a maximum of two entries: **setup**, which if **True** tells the client to **replace** rather than **append to** previous data.  **maxElements** gives the maximum number of points to be plotted; subsequent sends will roll previous entries off the list."
   ]
  },
  {
   "cell_type": "code",
   "execution_count": null,
   "metadata": {},
   "outputs": [],
   "source": [
    "from IPython.display import HTML\n",
    "h = HTML('<a href=%s>%s</a>'% (room_url, room_url))\n",
    "display(h)"
   ]
  },
  {
   "cell_type": "code",
   "execution_count": null,
   "metadata": {},
   "outputs": [],
   "source": [
    "chart_dictionary = {\"data\": data, \"streaming\": {\"setup\": True, \"maxElements\": 30}}\n",
    "ret_message, room, ret_code = my_client.send_data(chart_dictionary, chart_type=\"AreaChart\", room_name=my_client.room_name)"
   ]
  },
  {
   "cell_type": "markdown",
   "metadata": {},
   "source": [
    "Now that that is done, let's send 20 more points to the chart.  Note that only the last 30 are kept"
   ]
  },
  {
   "cell_type": "code",
   "execution_count": null,
   "metadata": {},
   "outputs": [],
   "source": [
    "new_data = [w.next_point() for i in range(20)]\n",
    "my_client.send_data({\"data\": new_data, \"streaming\": {\"setup\": False}}, chart_type=\"AreaChart\", room_name=my_client.room_name)"
   ]
  },
  {
   "cell_type": "markdown",
   "metadata": {},
   "source": [
    "Now let's send a point a second and watch the chart change."
   ]
  },
  {
   "cell_type": "code",
   "execution_count": null,
   "metadata": {},
   "outputs": [],
   "source": [
    "import time\n",
    "for i in range(100):\n",
    "    my_client.send_data({\"data\": [w.next_point()], \"streaming\": {\"setup\": False}}, chart_type = \"AreaChart\", room_name = my_client.room_name)\n",
    "    time.sleep(1)\n",
    "    "
   ]
  },
  {
   "cell_type": "code",
   "execution_count": null,
   "metadata": {},
   "outputs": [],
   "source": []
  }
 ],
 "metadata": {
  "kernelspec": {
   "display_name": "Python 3",
   "language": "python",
   "name": "python3"
  },
  "language_info": {
   "codemirror_mode": {
    "name": "ipython",
    "version": 3
   },
   "file_extension": ".py",
   "mimetype": "text/x-python",
   "name": "python",
   "nbconvert_exporter": "python",
   "pygments_lexer": "ipython3",
   "version": "3.7.3"
  }
 },
 "nbformat": 4,
 "nbformat_minor": 4
}
